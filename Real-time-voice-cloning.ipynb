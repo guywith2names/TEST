{
  "cells": [
    {
      "cell_type": "markdown",
      "metadata": {
        "id": "Q4qhRjmZkhrH"
      },
      "source": [
        "Download the respository from github"
      ]
    },
    {
      "cell_type": "code",
      "execution_count": null,
      "metadata": {
        "id": "JfDTT5jzkhrJ"
      },
      "outputs": [],
      "source": [
        "!git clone https://github.com/CorentinJ/Real-Time-Voice-Cloning.git"
      ]
    },
    {
      "cell_type": "markdown",
      "metadata": {
        "id": "w50jJ5CFkhrL"
      },
      "source": [
        "change directory to the folder which we just cloned"
      ]
    },
    {
      "cell_type": "code",
      "execution_count": null,
      "metadata": {
        "id": "ImYXiMGYkhrL"
      },
      "outputs": [],
      "source": [
        "cd Real-Time-Voice-Cloning/"
      ]
    },
    {
      "cell_type": "markdown",
      "metadata": {
        "id": "hGF2L6AtkhrM"
      },
      "source": [
        "install all dependencies using pip"
      ]
    },
    {
      "cell_type": "code",
      "execution_count": null,
      "metadata": {
        "id": "_eV_3ObFkhrN"
      },
      "outputs": [],
      "source": [
        "!pip install -r requirements.txt"
      ]
    },
    {
      "cell_type": "markdown",
      "metadata": {
        "id": "eYJsNr55khrO"
      },
      "source": [
        "Download pretrained model from google drive"
      ]
    },
    {
      "cell_type": "code",
      "execution_count": null,
      "metadata": {
        "id": "AstXmWsjkhrO"
      },
      "outputs": [],
      "source": [
        "!gdown https://drive.google.com/uc?id=1n1sPXvT34yXFLT47QZA6FIRGrwMeSsZc"
      ]
    },
    {
      "cell_type": "markdown",
      "metadata": {
        "id": "uOnrgfG2khrP"
      },
      "source": [
        "extract the downloaded model"
      ]
    },
    {
      "cell_type": "code",
      "execution_count": null,
      "metadata": {
        "id": "KOxaS4clkhrQ"
      },
      "outputs": [],
      "source": [
        "!unzip pretrained.zip"
      ]
    },
    {
      "cell_type": "markdown",
      "metadata": {
        "id": "9BDhXWmekhrR"
      },
      "source": [
        "Run the demo"
      ]
    },
    {
      "cell_type": "code",
      "execution_count": null,
      "metadata": {
        "id": "a5QTQ235khrS"
      },
      "outputs": [],
      "source": [
        "!python demo_cli.py --no_sound"
      ]
    }
  ],
  "metadata": {
    "kernelspec": {
      "display_name": "Python 3",
      "language": "python",
      "name": "python3"
    },
    "language_info": {
      "codemirror_mode": {
        "name": "ipython",
        "version": 3
      },
      "file_extension": ".py",
      "mimetype": "text/x-python",
      "name": "python",
      "nbconvert_exporter": "python",
      "pygments_lexer": "ipython3",
      "version": "3.7.7"
    },
    "colab": {
      "name": "Real-time-voice-cloning.ipynb",
      "provenance": []
    }
  },
  "nbformat": 4,
  "nbformat_minor": 0
}